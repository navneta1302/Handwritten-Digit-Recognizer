{
 "cells": [
  {
   "cell_type": "code",
   "execution_count": 2,
   "id": "63972607",
   "metadata": {},
   "outputs": [
    {
     "name": "stderr",
     "output_type": "stream",
     "text": [
      "WARNING:absl:Compiled the loaded model, but the compiled metrics have yet to be built. `model.compile_metrics` will be empty until you train or evaluate the model.\n"
     ]
    }
   ],
   "source": [
    "# GUI to Predict Digits\n",
    "from keras.models import load_model\n",
    "import tkinter as tk\n",
    "from PIL import ImageGrab, Image\n",
    "import numpy as np\n",
    "from keras.activations import softmax\n",
    "import win32gui\n",
    "custom_objects={\n",
    "    'softmax_v2':softmax, \n",
    "}\n",
    "model=load_model('mnist.h5',custom_objects=custom_objects)\n",
    "def predict_digit(img):\n",
    "    img=img.resize((28,28))\n",
    "    img=img.convert('L')\n",
    "    img=np.array(img)\n",
    "    img=np.invert(img)\n",
    "    img=img/255.0\n",
    "    img=img.reshape(1,28,28,1)\n",
    "    res=model.predict(img)[0]\n",
    "    return np.argmax(res), max(res)\n",
    "class App(tk.Tk):\n",
    "    def __init__(self):\n",
    "        tk.Tk.__init__(self)\n",
    "        self.x=self.y=0\n",
    "        self.canvas=tk.Canvas(self,width=300,height=300,bg=\"white\",cursor=\"cross\")\n",
    "        self.label=tk.Label(self, text=\"Thinking\",font=(\"Helvetica\",48))\n",
    "        self.classify_btn=tk.Button(self,text=\"Recognize\",command=self.classify_handwriting)\n",
    "        self.button_clear=tk.Button(self,text=\"Clear\",command=self.clear_all)\n",
    "        self.canvas.grid(row=0,column=0,pady=2,sticky=tk.W)\n",
    "        self.label.grid(row=0, column=1,pady=2,padx=2)\n",
    "        self.classify_btn.grid(row=1,column=1,pady=2,padx=2)\n",
    "        self.button_clear.grid(row=1,column=0,pady=2)\n",
    "        self.canvas.bind(\"<B1-Motion>\", self.draw_lines)\n",
    "    def clear_all(self):\n",
    "        self.canvas.delete(\"all\")\n",
    "    def classify_handwriting(self):\n",
    "        HWND=self.canvas.winfo_id() \n",
    "        rect=win32gui.GetWindowRect(HWND) \n",
    "        im=ImageGrab.grab(rect)\n",
    "        digit,acc=predict_digit(im)\n",
    "        self.label.configure(text=str(digit)+','+str(int(acc*100))+'%')\n",
    "    def draw_lines(self, event):\n",
    "        self.x=event.x\n",
    "        self.y=event.y\n",
    "        r=8\n",
    "        self.canvas.create_oval(self.x-r,self.y-r,self.x+r,self.y+r,fill='black')\n",
    "app = App()\n",
    "app.mainloop()\n"
   ]
  },
  {
   "cell_type": "code",
   "execution_count": null,
   "id": "06ce30ad",
   "metadata": {},
   "outputs": [],
   "source": []
  }
 ],
 "metadata": {
  "kernelspec": {
   "display_name": "Python 3 (ipykernel)",
   "language": "python",
   "name": "python3"
  },
  "language_info": {
   "codemirror_mode": {
    "name": "ipython",
    "version": 3
   },
   "file_extension": ".py",
   "mimetype": "text/x-python",
   "name": "python",
   "nbconvert_exporter": "python",
   "pygments_lexer": "ipython3",
   "version": "3.10.9"
  }
 },
 "nbformat": 4,
 "nbformat_minor": 5
}
